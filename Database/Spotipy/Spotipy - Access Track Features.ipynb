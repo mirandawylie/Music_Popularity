{
 "cells": [
  {
   "cell_type": "code",
   "execution_count": 1,
   "metadata": {},
   "outputs": [],
   "source": [
    "import spotipy\n",
    "from spotipy.oauth2 import SpotifyClientCredentials\n",
    "from config import SPOTIPY_CLIENT_ID, SPOTIPY_CLIENT_SECRET"
   ]
  },
  {
   "cell_type": "code",
   "execution_count": 2,
   "metadata": {},
   "outputs": [],
   "source": [
    "#Set up Spotify credentials\n",
    "client_credentials_manager = SpotifyClientCredentials(SPOTIPY_CLIENT_ID, SPOTIPY_CLIENT_SECRET)\n",
    "sp = spotipy.Spotify(client_credentials_manager=client_credentials_manager)"
   ]
  },
  {
   "cell_type": "code",
   "execution_count": 3,
   "metadata": {},
   "outputs": [
    {
     "name": "stdout",
     "output_type": "stream",
     "text": [
      "{'song_title': 'good 4 u', 'song_artist': 'Olivia Rodrigo', 'song_id': '4ZtFanR9U6ndgddUvNcjcG', 'popularity': 100}\n"
     ]
    }
   ],
   "source": [
    "# Use Spotify search to find a song and retrieve info\n",
    "results = sp.search(q=\"track:good 4 u artist:Olivia Rodrigo\", limit=5)\n",
    "top_result = results['tracks']['items'][0]\n",
    "\n",
    "filtered_dict = {'song_title': top_result['name'],\n",
    "                'song_artist': top_result['artists'][0]['name'],\n",
    "                'song_id': top_result['id'],\n",
    "                'popularity': top_result['popularity']}\n",
    "print(filtered_dict)"
   ]
  },
  {
   "cell_type": "code",
   "execution_count": 4,
   "metadata": {},
   "outputs": [],
   "source": [
    "# User function to get track meta data/audio features\n",
    "def getTrackFeatures(song_id):\n",
    "    meta = sp.track(song_id)\n",
    "    features = sp.audio_features(song_id)\n",
    "    \n",
    "    # Meta data\n",
    "    name = meta['name']\n",
    "    album = meta['album']['name']\n",
    "    artist = meta['album']['artists'][0]['name']\n",
    "    release_date = meta['album']['release_date']\n",
    "    length = meta['duration_ms']\n",
    "    popularity = meta['popularity']\n",
    "\n",
    "    # features\n",
    "    acousticness = features[0]['acousticness']\n",
    "    danceability = features[0]['danceability']\n",
    "    energy = features[0]['energy']\n",
    "    instrumentalness = features[0]['instrumentalness']\n",
    "    liveness = features[0]['liveness']\n",
    "    loudness = features[0]['loudness']\n",
    "    speechiness = features[0]['speechiness']\n",
    "    tempo = features[0]['tempo']\n",
    "    time_signature = features[0]['time_signature']\n",
    "\n",
    "    track = [name, album, artist, release_date, length, popularity, danceability, acousticness, danceability, energy, instrumentalness, liveness, loudness, speechiness, tempo, time_signature]\n",
    "    return track"
   ]
  },
  {
   "cell_type": "code",
   "execution_count": 5,
   "metadata": {},
   "outputs": [
    {
     "data": {
      "text/plain": [
       "['good 4 u',\n",
       " 'SOUR',\n",
       " 'Olivia Rodrigo',\n",
       " '2021-05-21',\n",
       " 178146,\n",
       " 100,\n",
       " 0.563,\n",
       " 0.335,\n",
       " 0.563,\n",
       " 0.664,\n",
       " 0,\n",
       " 0.0849,\n",
       " -5.044,\n",
       " 0.154,\n",
       " 166.928,\n",
       " 4]"
      ]
     },
     "execution_count": 5,
     "metadata": {},
     "output_type": "execute_result"
    }
   ],
   "source": [
    "getTrackFeatures(filtered_dict['song_id'])"
   ]
  },
  {
   "cell_type": "code",
   "execution_count": null,
   "metadata": {},
   "outputs": [],
   "source": []
  }
 ],
 "metadata": {
  "kernelspec": {
   "display_name": "KPythonData",
   "language": "python",
   "name": "kpythondata"
  },
  "language_info": {
   "codemirror_mode": {
    "name": "ipython",
    "version": 3
   },
   "file_extension": ".py",
   "mimetype": "text/x-python",
   "name": "python",
   "nbconvert_exporter": "python",
   "pygments_lexer": "ipython3",
   "version": "3.7.9"
  }
 },
 "nbformat": 4,
 "nbformat_minor": 4
}
