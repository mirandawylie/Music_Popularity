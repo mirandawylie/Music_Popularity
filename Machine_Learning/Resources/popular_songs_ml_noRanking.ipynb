{
 "cells": [
  {
   "cell_type": "code",
   "execution_count": 1,
   "metadata": {},
   "outputs": [],
   "source": [
    "import numpy as np\n",
    "import pandas as pd\n",
    "import json\n",
    "from path import Path\n",
    "from math import sqrt\n",
    "import matplotlib.pyplot as plt\n",
    "from sklearn.model_selection import train_test_split\n",
    "from sklearn.preprocessing import StandardScaler\n",
    "from sklearn.metrics import classification_report, confusion_matrix\n",
    "from sklearn.metrics import balanced_accuracy_score\n",
    "from sklearn.metrics import accuracy_score\n",
    "from sklearn.metrics import mean_squared_error\n",
    "from sklearn.metrics import mean_absolute_error"
   ]
  },
  {
   "cell_type": "code",
   "execution_count": 2,
   "metadata": {},
   "outputs": [
    {
     "name": "stderr",
     "output_type": "stream",
     "text": [
      "b'Skipping line 3520: expected 16 fields, saw 17\\nSkipping line 3613: expected 16 fields, saw 17\\nSkipping line 3718: expected 16 fields, saw 17\\nSkipping line 3879: expected 16 fields, saw 17\\nSkipping line 3983: expected 16 fields, saw 17\\nSkipping line 4083: expected 16 fields, saw 17\\nSkipping line 4187: expected 16 fields, saw 17\\nSkipping line 4297: expected 16 fields, saw 17\\nSkipping line 4399: expected 16 fields, saw 17\\nSkipping line 4492: expected 16 fields, saw 17\\nSkipping line 4576: expected 16 fields, saw 17\\nSkipping line 4699: expected 16 fields, saw 17\\nSkipping line 4777: expected 16 fields, saw 17\\nSkipping line 4872: expected 16 fields, saw 17\\nSkipping line 4985: expected 16 fields, saw 17\\nSkipping line 5098: expected 16 fields, saw 17\\nSkipping line 5199: expected 16 fields, saw 17\\nSkipping line 5290: expected 16 fields, saw 17\\nSkipping line 5349: expected 16 fields, saw 17\\nSkipping line 5494: expected 16 fields, saw 17\\n'\n"
     ]
    },
    {
     "data": {
      "text/html": [
       "<div>\n",
       "<style scoped>\n",
       "    .dataframe tbody tr th:only-of-type {\n",
       "        vertical-align: middle;\n",
       "    }\n",
       "\n",
       "    .dataframe tbody tr th {\n",
       "        vertical-align: top;\n",
       "    }\n",
       "\n",
       "    .dataframe thead th {\n",
       "        text-align: right;\n",
       "    }\n",
       "</style>\n",
       "<table border=\"1\" class=\"dataframe\">\n",
       "  <thead>\n",
       "    <tr style=\"text-align: right;\">\n",
       "      <th></th>\n",
       "      <th>song</th>\n",
       "      <th>artist</th>\n",
       "      <th>release_date</th>\n",
       "      <th>popularity</th>\n",
       "      <th>acousticness</th>\n",
       "      <th>danceability</th>\n",
       "      <th>energy</th>\n",
       "      <th>instrumentalness</th>\n",
       "      <th>liveness</th>\n",
       "      <th>loudness</th>\n",
       "      <th>speechiness</th>\n",
       "      <th>tempo</th>\n",
       "      <th>popular_date</th>\n",
       "      <th>ranking</th>\n",
       "      <th>weeks_on_board</th>\n",
       "      <th>genres</th>\n",
       "    </tr>\n",
       "  </thead>\n",
       "  <tbody>\n",
       "    <tr>\n",
       "      <th>0</th>\n",
       "      <td>Take What You Want (feat. Ozzy Osbourne &amp; Trav...</td>\n",
       "      <td>Post Malone</td>\n",
       "      <td>2019-09-06</td>\n",
       "      <td>76.0</td>\n",
       "      <td>0.0906</td>\n",
       "      <td>0.499</td>\n",
       "      <td>0.800</td>\n",
       "      <td>0.000000</td>\n",
       "      <td>0.1470</td>\n",
       "      <td>-2.665</td>\n",
       "      <td>0.0502</td>\n",
       "      <td>139.919</td>\n",
       "      <td>2020-01-25 00:00:00</td>\n",
       "      <td>70</td>\n",
       "      <td>19</td>\n",
       "      <td>dfw rap, melodic rap, rap</td>\n",
       "    </tr>\n",
       "    <tr>\n",
       "      <th>1</th>\n",
       "      <td>RITMO (Bad Boys For Life)</td>\n",
       "      <td>Black Eyed Peas</td>\n",
       "      <td>2019-10-12</td>\n",
       "      <td>78.0</td>\n",
       "      <td>0.0334</td>\n",
       "      <td>0.721</td>\n",
       "      <td>0.716</td>\n",
       "      <td>0.000840</td>\n",
       "      <td>0.2370</td>\n",
       "      <td>-7.037</td>\n",
       "      <td>0.0657</td>\n",
       "      <td>104.994</td>\n",
       "      <td>2020-01-25 00:00:00</td>\n",
       "      <td>67</td>\n",
       "      <td>8</td>\n",
       "      <td>dance pop, pop, pop rap</td>\n",
       "    </tr>\n",
       "    <tr>\n",
       "      <th>2</th>\n",
       "      <td>BEST ON EARTH (feat. BIA) - Bonus</td>\n",
       "      <td>Russ</td>\n",
       "      <td>2020-01-31</td>\n",
       "      <td>71.0</td>\n",
       "      <td>0.1880</td>\n",
       "      <td>0.846</td>\n",
       "      <td>0.748</td>\n",
       "      <td>0.000000</td>\n",
       "      <td>0.0930</td>\n",
       "      <td>-3.512</td>\n",
       "      <td>0.0780</td>\n",
       "      <td>90.006</td>\n",
       "      <td>2020-01-25 00:00:00</td>\n",
       "      <td>68</td>\n",
       "      <td>6</td>\n",
       "      <td>hawaiian hip hop, pop rap, rap</td>\n",
       "    </tr>\n",
       "    <tr>\n",
       "      <th>3</th>\n",
       "      <td>Tusa</td>\n",
       "      <td>Various Artists</td>\n",
       "      <td>2019-12-20</td>\n",
       "      <td>45.0</td>\n",
       "      <td>0.2950</td>\n",
       "      <td>0.803</td>\n",
       "      <td>0.715</td>\n",
       "      <td>0.000134</td>\n",
       "      <td>0.0574</td>\n",
       "      <td>-3.280</td>\n",
       "      <td>0.2980</td>\n",
       "      <td>101.085</td>\n",
       "      <td>2020-01-25 00:00:00</td>\n",
       "      <td>69</td>\n",
       "      <td>7</td>\n",
       "      <td>NaN</td>\n",
       "    </tr>\n",
       "    <tr>\n",
       "      <th>4</th>\n",
       "      <td>I Wish Grandpas Never Died</td>\n",
       "      <td>Riley Green</td>\n",
       "      <td>2019-09-20</td>\n",
       "      <td>71.0</td>\n",
       "      <td>0.0360</td>\n",
       "      <td>0.445</td>\n",
       "      <td>0.492</td>\n",
       "      <td>0.000000</td>\n",
       "      <td>0.1220</td>\n",
       "      <td>-5.717</td>\n",
       "      <td>0.0294</td>\n",
       "      <td>148.013</td>\n",
       "      <td>2020-01-25 00:00:00</td>\n",
       "      <td>75</td>\n",
       "      <td>3</td>\n",
       "      <td>contemporary country, country road</td>\n",
       "    </tr>\n",
       "  </tbody>\n",
       "</table>\n",
       "</div>"
      ],
      "text/plain": [
       "                                                song           artist  \\\n",
       "0  Take What You Want (feat. Ozzy Osbourne & Trav...      Post Malone   \n",
       "1                          RITMO (Bad Boys For Life)  Black Eyed Peas   \n",
       "2                  BEST ON EARTH (feat. BIA) - Bonus             Russ   \n",
       "3                                               Tusa  Various Artists   \n",
       "4                         I Wish Grandpas Never Died      Riley Green   \n",
       "\n",
       "  release_date  popularity  acousticness  danceability  energy  \\\n",
       "0   2019-09-06        76.0        0.0906         0.499   0.800   \n",
       "1   2019-10-12        78.0        0.0334         0.721   0.716   \n",
       "2   2020-01-31        71.0        0.1880         0.846   0.748   \n",
       "3   2019-12-20        45.0        0.2950         0.803   0.715   \n",
       "4   2019-09-20        71.0        0.0360         0.445   0.492   \n",
       "\n",
       "   instrumentalness  liveness  loudness  speechiness    tempo  \\\n",
       "0          0.000000    0.1470    -2.665       0.0502  139.919   \n",
       "1          0.000840    0.2370    -7.037       0.0657  104.994   \n",
       "2          0.000000    0.0930    -3.512       0.0780   90.006   \n",
       "3          0.000134    0.0574    -3.280       0.2980  101.085   \n",
       "4          0.000000    0.1220    -5.717       0.0294  148.013   \n",
       "\n",
       "          popular_date  ranking  weeks_on_board  \\\n",
       "0  2020-01-25 00:00:00       70              19   \n",
       "1  2020-01-25 00:00:00       67               8   \n",
       "2  2020-01-25 00:00:00       68               6   \n",
       "3  2020-01-25 00:00:00       69               7   \n",
       "4  2020-01-25 00:00:00       75               3   \n",
       "\n",
       "                               genres  \n",
       "0           dfw rap, melodic rap, rap  \n",
       "1             dance pop, pop, pop rap  \n",
       "2      hawaiian hip hop, pop rap, rap  \n",
       "3                                 NaN  \n",
       "4  contemporary country, country road  "
      ]
     },
     "execution_count": 2,
     "metadata": {},
     "output_type": "execute_result"
    }
   ],
   "source": [
    "# set variable equal to loaded dataset\n",
    "tracks_df = pd.read_csv('popular_songs.csv', error_bad_lines=False)\n",
    "tracks_df.head()"
   ]
  },
  {
   "cell_type": "markdown",
   "metadata": {},
   "source": [
    "-------------------------------------------------------------------------------"
   ]
  },
  {
   "cell_type": "markdown",
   "metadata": {},
   "source": [
    "# Look at the data and transform as needed before training for the Machine Learning"
   ]
  },
  {
   "cell_type": "code",
   "execution_count": 3,
   "metadata": {},
   "outputs": [
    {
     "data": {
      "text/html": [
       "<div>\n",
       "<style scoped>\n",
       "    .dataframe tbody tr th:only-of-type {\n",
       "        vertical-align: middle;\n",
       "    }\n",
       "\n",
       "    .dataframe tbody tr th {\n",
       "        vertical-align: top;\n",
       "    }\n",
       "\n",
       "    .dataframe thead th {\n",
       "        text-align: right;\n",
       "    }\n",
       "</style>\n",
       "<table border=\"1\" class=\"dataframe\">\n",
       "  <thead>\n",
       "    <tr style=\"text-align: right;\">\n",
       "      <th></th>\n",
       "      <th>count</th>\n",
       "      <th>mean</th>\n",
       "      <th>std</th>\n",
       "      <th>min</th>\n",
       "      <th>25%</th>\n",
       "      <th>50%</th>\n",
       "      <th>75%</th>\n",
       "      <th>max</th>\n",
       "    </tr>\n",
       "  </thead>\n",
       "  <tbody>\n",
       "    <tr>\n",
       "      <th>popularity</th>\n",
       "      <td>52395.0</td>\n",
       "      <td>63.208398</td>\n",
       "      <td>16.218658</td>\n",
       "      <td>0.000000</td>\n",
       "      <td>57.0000</td>\n",
       "      <td>66.0000</td>\n",
       "      <td>73.000000</td>\n",
       "      <td>97.000</td>\n",
       "    </tr>\n",
       "    <tr>\n",
       "      <th>acousticness</th>\n",
       "      <td>52395.0</td>\n",
       "      <td>0.166375</td>\n",
       "      <td>0.209721</td>\n",
       "      <td>0.000014</td>\n",
       "      <td>0.0219</td>\n",
       "      <td>0.0754</td>\n",
       "      <td>0.228000</td>\n",
       "      <td>0.996</td>\n",
       "    </tr>\n",
       "    <tr>\n",
       "      <th>danceability</th>\n",
       "      <td>52395.0</td>\n",
       "      <td>0.646721</td>\n",
       "      <td>0.135772</td>\n",
       "      <td>0.076800</td>\n",
       "      <td>0.5570</td>\n",
       "      <td>0.6520</td>\n",
       "      <td>0.742000</td>\n",
       "      <td>0.981</td>\n",
       "    </tr>\n",
       "    <tr>\n",
       "      <th>energy</th>\n",
       "      <td>52395.0</td>\n",
       "      <td>0.676498</td>\n",
       "      <td>0.166208</td>\n",
       "      <td>0.002310</td>\n",
       "      <td>0.5670</td>\n",
       "      <td>0.6980</td>\n",
       "      <td>0.805000</td>\n",
       "      <td>0.996</td>\n",
       "    </tr>\n",
       "    <tr>\n",
       "      <th>instrumentalness</th>\n",
       "      <td>52395.0</td>\n",
       "      <td>0.010053</td>\n",
       "      <td>0.076090</td>\n",
       "      <td>0.000000</td>\n",
       "      <td>0.0000</td>\n",
       "      <td>0.0000</td>\n",
       "      <td>0.000011</td>\n",
       "      <td>0.973</td>\n",
       "    </tr>\n",
       "    <tr>\n",
       "      <th>liveness</th>\n",
       "      <td>52395.0</td>\n",
       "      <td>0.178256</td>\n",
       "      <td>0.135081</td>\n",
       "      <td>0.020000</td>\n",
       "      <td>0.0945</td>\n",
       "      <td>0.1240</td>\n",
       "      <td>0.224000</td>\n",
       "      <td>0.989</td>\n",
       "    </tr>\n",
       "    <tr>\n",
       "      <th>loudness</th>\n",
       "      <td>52395.0</td>\n",
       "      <td>-5.936540</td>\n",
       "      <td>2.303629</td>\n",
       "      <td>-42.887000</td>\n",
       "      <td>-7.0310</td>\n",
       "      <td>-5.6030</td>\n",
       "      <td>-4.421000</td>\n",
       "      <td>0.175</td>\n",
       "    </tr>\n",
       "    <tr>\n",
       "      <th>speechiness</th>\n",
       "      <td>52395.0</td>\n",
       "      <td>0.101920</td>\n",
       "      <td>0.102682</td>\n",
       "      <td>0.022500</td>\n",
       "      <td>0.0378</td>\n",
       "      <td>0.0554</td>\n",
       "      <td>0.121000</td>\n",
       "      <td>0.951</td>\n",
       "    </tr>\n",
       "    <tr>\n",
       "      <th>tempo</th>\n",
       "      <td>52395.0</td>\n",
       "      <td>122.542894</td>\n",
       "      <td>28.346675</td>\n",
       "      <td>48.718000</td>\n",
       "      <td>99.6430</td>\n",
       "      <td>122.5040</td>\n",
       "      <td>140.309000</td>\n",
       "      <td>208.067</td>\n",
       "    </tr>\n",
       "    <tr>\n",
       "      <th>ranking</th>\n",
       "      <td>52504.0</td>\n",
       "      <td>50.524322</td>\n",
       "      <td>28.870208</td>\n",
       "      <td>1.000000</td>\n",
       "      <td>26.0000</td>\n",
       "      <td>51.0000</td>\n",
       "      <td>76.000000</td>\n",
       "      <td>100.000</td>\n",
       "    </tr>\n",
       "    <tr>\n",
       "      <th>weeks_on_board</th>\n",
       "      <td>52504.0</td>\n",
       "      <td>12.265865</td>\n",
       "      <td>10.126369</td>\n",
       "      <td>1.000000</td>\n",
       "      <td>4.0000</td>\n",
       "      <td>10.0000</td>\n",
       "      <td>17.000000</td>\n",
       "      <td>87.000</td>\n",
       "    </tr>\n",
       "  </tbody>\n",
       "</table>\n",
       "</div>"
      ],
      "text/plain": [
       "                    count        mean        std        min      25%  \\\n",
       "popularity        52395.0   63.208398  16.218658   0.000000  57.0000   \n",
       "acousticness      52395.0    0.166375   0.209721   0.000014   0.0219   \n",
       "danceability      52395.0    0.646721   0.135772   0.076800   0.5570   \n",
       "energy            52395.0    0.676498   0.166208   0.002310   0.5670   \n",
       "instrumentalness  52395.0    0.010053   0.076090   0.000000   0.0000   \n",
       "liveness          52395.0    0.178256   0.135081   0.020000   0.0945   \n",
       "loudness          52395.0   -5.936540   2.303629 -42.887000  -7.0310   \n",
       "speechiness       52395.0    0.101920   0.102682   0.022500   0.0378   \n",
       "tempo             52395.0  122.542894  28.346675  48.718000  99.6430   \n",
       "ranking           52504.0   50.524322  28.870208   1.000000  26.0000   \n",
       "weeks_on_board    52504.0   12.265865  10.126369   1.000000   4.0000   \n",
       "\n",
       "                       50%         75%      max  \n",
       "popularity         66.0000   73.000000   97.000  \n",
       "acousticness        0.0754    0.228000    0.996  \n",
       "danceability        0.6520    0.742000    0.981  \n",
       "energy              0.6980    0.805000    0.996  \n",
       "instrumentalness    0.0000    0.000011    0.973  \n",
       "liveness            0.1240    0.224000    0.989  \n",
       "loudness           -5.6030   -4.421000    0.175  \n",
       "speechiness         0.0554    0.121000    0.951  \n",
       "tempo             122.5040  140.309000  208.067  \n",
       "ranking            51.0000   76.000000  100.000  \n",
       "weeks_on_board     10.0000   17.000000   87.000  "
      ]
     },
     "execution_count": 3,
     "metadata": {},
     "output_type": "execute_result"
    }
   ],
   "source": [
    "# Describe and transpose the dataframe\n",
    "tracks_df.describe().transpose()"
   ]
  },
  {
   "cell_type": "code",
   "execution_count": 4,
   "metadata": {},
   "outputs": [
    {
     "data": {
      "text/html": [
       "<div>\n",
       "<style scoped>\n",
       "    .dataframe tbody tr th:only-of-type {\n",
       "        vertical-align: middle;\n",
       "    }\n",
       "\n",
       "    .dataframe tbody tr th {\n",
       "        vertical-align: top;\n",
       "    }\n",
       "\n",
       "    .dataframe thead th {\n",
       "        text-align: right;\n",
       "    }\n",
       "</style>\n",
       "<table border=\"1\" class=\"dataframe\">\n",
       "  <thead>\n",
       "    <tr style=\"text-align: right;\">\n",
       "      <th></th>\n",
       "      <th>song</th>\n",
       "      <th>artist</th>\n",
       "      <th>release_date</th>\n",
       "      <th>popularity</th>\n",
       "      <th>acousticness</th>\n",
       "      <th>danceability</th>\n",
       "      <th>energy</th>\n",
       "      <th>instrumentalness</th>\n",
       "      <th>liveness</th>\n",
       "      <th>loudness</th>\n",
       "      <th>speechiness</th>\n",
       "      <th>tempo</th>\n",
       "      <th>popular_date</th>\n",
       "      <th>ranking</th>\n",
       "      <th>weeks_on_board</th>\n",
       "      <th>genres</th>\n",
       "    </tr>\n",
       "  </thead>\n",
       "  <tbody>\n",
       "    <tr>\n",
       "      <th>0</th>\n",
       "      <td>Take What You Want (feat. Ozzy Osbourne &amp; Trav...</td>\n",
       "      <td>Post Malone</td>\n",
       "      <td>2019-09-06</td>\n",
       "      <td>76.0</td>\n",
       "      <td>0.0906</td>\n",
       "      <td>0.499</td>\n",
       "      <td>0.800</td>\n",
       "      <td>0.000000</td>\n",
       "      <td>0.1470</td>\n",
       "      <td>-2.665</td>\n",
       "      <td>0.0502</td>\n",
       "      <td>139.919</td>\n",
       "      <td>2020-01-25 00:00:00</td>\n",
       "      <td>70</td>\n",
       "      <td>19</td>\n",
       "      <td>dfw rap, melodic rap, rap</td>\n",
       "    </tr>\n",
       "    <tr>\n",
       "      <th>1</th>\n",
       "      <td>RITMO (Bad Boys For Life)</td>\n",
       "      <td>Black Eyed Peas</td>\n",
       "      <td>2019-10-12</td>\n",
       "      <td>78.0</td>\n",
       "      <td>0.0334</td>\n",
       "      <td>0.721</td>\n",
       "      <td>0.716</td>\n",
       "      <td>0.000840</td>\n",
       "      <td>0.2370</td>\n",
       "      <td>-7.037</td>\n",
       "      <td>0.0657</td>\n",
       "      <td>104.994</td>\n",
       "      <td>2020-01-25 00:00:00</td>\n",
       "      <td>67</td>\n",
       "      <td>8</td>\n",
       "      <td>dance pop, pop, pop rap</td>\n",
       "    </tr>\n",
       "    <tr>\n",
       "      <th>2</th>\n",
       "      <td>BEST ON EARTH (feat. BIA) - Bonus</td>\n",
       "      <td>Russ</td>\n",
       "      <td>2020-01-31</td>\n",
       "      <td>71.0</td>\n",
       "      <td>0.1880</td>\n",
       "      <td>0.846</td>\n",
       "      <td>0.748</td>\n",
       "      <td>0.000000</td>\n",
       "      <td>0.0930</td>\n",
       "      <td>-3.512</td>\n",
       "      <td>0.0780</td>\n",
       "      <td>90.006</td>\n",
       "      <td>2020-01-25 00:00:00</td>\n",
       "      <td>68</td>\n",
       "      <td>6</td>\n",
       "      <td>hawaiian hip hop, pop rap, rap</td>\n",
       "    </tr>\n",
       "    <tr>\n",
       "      <th>3</th>\n",
       "      <td>Tusa</td>\n",
       "      <td>Various Artists</td>\n",
       "      <td>2019-12-20</td>\n",
       "      <td>45.0</td>\n",
       "      <td>0.2950</td>\n",
       "      <td>0.803</td>\n",
       "      <td>0.715</td>\n",
       "      <td>0.000134</td>\n",
       "      <td>0.0574</td>\n",
       "      <td>-3.280</td>\n",
       "      <td>0.2980</td>\n",
       "      <td>101.085</td>\n",
       "      <td>2020-01-25 00:00:00</td>\n",
       "      <td>69</td>\n",
       "      <td>7</td>\n",
       "      <td>NaN</td>\n",
       "    </tr>\n",
       "    <tr>\n",
       "      <th>4</th>\n",
       "      <td>I Wish Grandpas Never Died</td>\n",
       "      <td>Riley Green</td>\n",
       "      <td>2019-09-20</td>\n",
       "      <td>71.0</td>\n",
       "      <td>0.0360</td>\n",
       "      <td>0.445</td>\n",
       "      <td>0.492</td>\n",
       "      <td>0.000000</td>\n",
       "      <td>0.1220</td>\n",
       "      <td>-5.717</td>\n",
       "      <td>0.0294</td>\n",
       "      <td>148.013</td>\n",
       "      <td>2020-01-25 00:00:00</td>\n",
       "      <td>75</td>\n",
       "      <td>3</td>\n",
       "      <td>contemporary country, country road</td>\n",
       "    </tr>\n",
       "  </tbody>\n",
       "</table>\n",
       "</div>"
      ],
      "text/plain": [
       "                                                song           artist  \\\n",
       "0  Take What You Want (feat. Ozzy Osbourne & Trav...      Post Malone   \n",
       "1                          RITMO (Bad Boys For Life)  Black Eyed Peas   \n",
       "2                  BEST ON EARTH (feat. BIA) - Bonus             Russ   \n",
       "3                                               Tusa  Various Artists   \n",
       "4                         I Wish Grandpas Never Died      Riley Green   \n",
       "\n",
       "  release_date  popularity  acousticness  danceability  energy  \\\n",
       "0   2019-09-06        76.0        0.0906         0.499   0.800   \n",
       "1   2019-10-12        78.0        0.0334         0.721   0.716   \n",
       "2   2020-01-31        71.0        0.1880         0.846   0.748   \n",
       "3   2019-12-20        45.0        0.2950         0.803   0.715   \n",
       "4   2019-09-20        71.0        0.0360         0.445   0.492   \n",
       "\n",
       "   instrumentalness  liveness  loudness  speechiness    tempo  \\\n",
       "0          0.000000    0.1470    -2.665       0.0502  139.919   \n",
       "1          0.000840    0.2370    -7.037       0.0657  104.994   \n",
       "2          0.000000    0.0930    -3.512       0.0780   90.006   \n",
       "3          0.000134    0.0574    -3.280       0.2980  101.085   \n",
       "4          0.000000    0.1220    -5.717       0.0294  148.013   \n",
       "\n",
       "          popular_date  ranking  weeks_on_board  \\\n",
       "0  2020-01-25 00:00:00       70              19   \n",
       "1  2020-01-25 00:00:00       67               8   \n",
       "2  2020-01-25 00:00:00       68               6   \n",
       "3  2020-01-25 00:00:00       69               7   \n",
       "4  2020-01-25 00:00:00       75               3   \n",
       "\n",
       "                               genres  \n",
       "0           dfw rap, melodic rap, rap  \n",
       "1             dance pop, pop, pop rap  \n",
       "2      hawaiian hip hop, pop rap, rap  \n",
       "3                                 NaN  \n",
       "4  contemporary country, country road  "
      ]
     },
     "execution_count": 4,
     "metadata": {},
     "output_type": "execute_result"
    }
   ],
   "source": [
    "# Gets rid of white space before and after each column name\n",
    "tracks_df.columns = tracks_df.columns.str.strip()\n",
    "tracks_df.head()"
   ]
  },
  {
   "cell_type": "code",
   "execution_count": 5,
   "metadata": {},
   "outputs": [
    {
     "data": {
      "text/html": [
       "<div>\n",
       "<style scoped>\n",
       "    .dataframe tbody tr th:only-of-type {\n",
       "        vertical-align: middle;\n",
       "    }\n",
       "\n",
       "    .dataframe tbody tr th {\n",
       "        vertical-align: top;\n",
       "    }\n",
       "\n",
       "    .dataframe thead th {\n",
       "        text-align: right;\n",
       "    }\n",
       "</style>\n",
       "<table border=\"1\" class=\"dataframe\">\n",
       "  <thead>\n",
       "    <tr style=\"text-align: right;\">\n",
       "      <th></th>\n",
       "      <th>popularity</th>\n",
       "      <th>acousticness</th>\n",
       "      <th>danceability</th>\n",
       "      <th>energy</th>\n",
       "      <th>instrumentalness</th>\n",
       "      <th>liveness</th>\n",
       "      <th>loudness</th>\n",
       "      <th>speechiness</th>\n",
       "      <th>tempo</th>\n",
       "      <th>ranking</th>\n",
       "      <th>weeks_on_board</th>\n",
       "    </tr>\n",
       "  </thead>\n",
       "  <tbody>\n",
       "    <tr>\n",
       "      <th>52499</th>\n",
       "      <td>60.0</td>\n",
       "      <td>0.01950</td>\n",
       "      <td>0.760</td>\n",
       "      <td>0.696</td>\n",
       "      <td>0.0000</td>\n",
       "      <td>0.2780</td>\n",
       "      <td>-5.811</td>\n",
       "      <td>0.0491</td>\n",
       "      <td>127.029</td>\n",
       "      <td>28</td>\n",
       "      <td>19</td>\n",
       "    </tr>\n",
       "    <tr>\n",
       "      <th>52500</th>\n",
       "      <td>52.0</td>\n",
       "      <td>0.02730</td>\n",
       "      <td>0.589</td>\n",
       "      <td>0.893</td>\n",
       "      <td>0.0000</td>\n",
       "      <td>0.3430</td>\n",
       "      <td>-2.948</td>\n",
       "      <td>0.0397</td>\n",
       "      <td>92.011</td>\n",
       "      <td>33</td>\n",
       "      <td>8</td>\n",
       "    </tr>\n",
       "    <tr>\n",
       "      <th>52501</th>\n",
       "      <td>63.0</td>\n",
       "      <td>0.00453</td>\n",
       "      <td>0.724</td>\n",
       "      <td>0.870</td>\n",
       "      <td>0.0000</td>\n",
       "      <td>0.8330</td>\n",
       "      <td>-3.614</td>\n",
       "      <td>0.1130</td>\n",
       "      <td>93.010</td>\n",
       "      <td>34</td>\n",
       "      <td>6</td>\n",
       "    </tr>\n",
       "    <tr>\n",
       "      <th>52502</th>\n",
       "      <td>53.0</td>\n",
       "      <td>0.02770</td>\n",
       "      <td>0.590</td>\n",
       "      <td>0.735</td>\n",
       "      <td>0.0000</td>\n",
       "      <td>0.0818</td>\n",
       "      <td>-4.924</td>\n",
       "      <td>0.2970</td>\n",
       "      <td>102.076</td>\n",
       "      <td>35</td>\n",
       "      <td>9</td>\n",
       "    </tr>\n",
       "    <tr>\n",
       "      <th>52503</th>\n",
       "      <td>58.0</td>\n",
       "      <td>0.00450</td>\n",
       "      <td>0.611</td>\n",
       "      <td>0.827</td>\n",
       "      <td>0.0132</td>\n",
       "      <td>0.0283</td>\n",
       "      <td>-4.665</td>\n",
       "      <td>0.0876</td>\n",
       "      <td>190.058</td>\n",
       "      <td>36</td>\n",
       "      <td>8</td>\n",
       "    </tr>\n",
       "  </tbody>\n",
       "</table>\n",
       "</div>"
      ],
      "text/plain": [
       "       popularity  acousticness  danceability  energy  instrumentalness  \\\n",
       "52499        60.0       0.01950         0.760   0.696            0.0000   \n",
       "52500        52.0       0.02730         0.589   0.893            0.0000   \n",
       "52501        63.0       0.00453         0.724   0.870            0.0000   \n",
       "52502        53.0       0.02770         0.590   0.735            0.0000   \n",
       "52503        58.0       0.00450         0.611   0.827            0.0132   \n",
       "\n",
       "       liveness  loudness  speechiness    tempo  ranking  weeks_on_board  \n",
       "52499    0.2780    -5.811       0.0491  127.029       28              19  \n",
       "52500    0.3430    -2.948       0.0397   92.011       33               8  \n",
       "52501    0.8330    -3.614       0.1130   93.010       34               6  \n",
       "52502    0.0818    -4.924       0.2970  102.076       35               9  \n",
       "52503    0.0283    -4.665       0.0876  190.058       36               8  "
      ]
     },
     "execution_count": 5,
     "metadata": {},
     "output_type": "execute_result"
    }
   ],
   "source": [
    "# Drop columns that are not needed for the ML Model\n",
    "new_tracks_df = tracks_df.drop(['song','artist','release_date','genres','popular_date'], axis =1)\n",
    "\n",
    "# Drop the null columns where all values are null\n",
    "new_tracks_df = new_tracks_df.dropna(axis='columns', how='all')\n",
    "\n",
    "# Drop the null rows\n",
    "new_tracks_df = new_tracks_df.dropna()\n",
    "new_tracks_df.tail()"
   ]
  },
  {
   "cell_type": "code",
   "execution_count": 6,
   "metadata": {},
   "outputs": [
    {
     "data": {
      "text/html": [
       "<div>\n",
       "<style scoped>\n",
       "    .dataframe tbody tr th:only-of-type {\n",
       "        vertical-align: middle;\n",
       "    }\n",
       "\n",
       "    .dataframe tbody tr th {\n",
       "        vertical-align: top;\n",
       "    }\n",
       "\n",
       "    .dataframe thead th {\n",
       "        text-align: right;\n",
       "    }\n",
       "</style>\n",
       "<table border=\"1\" class=\"dataframe\">\n",
       "  <thead>\n",
       "    <tr style=\"text-align: right;\">\n",
       "      <th></th>\n",
       "      <th>weeks_on_board</th>\n",
       "    </tr>\n",
       "  </thead>\n",
       "  <tbody>\n",
       "    <tr>\n",
       "      <th>count</th>\n",
       "      <td>52395.000000</td>\n",
       "    </tr>\n",
       "    <tr>\n",
       "      <th>mean</th>\n",
       "      <td>12.278118</td>\n",
       "    </tr>\n",
       "    <tr>\n",
       "      <th>std</th>\n",
       "      <td>10.130632</td>\n",
       "    </tr>\n",
       "    <tr>\n",
       "      <th>min</th>\n",
       "      <td>1.000000</td>\n",
       "    </tr>\n",
       "    <tr>\n",
       "      <th>25%</th>\n",
       "      <td>4.000000</td>\n",
       "    </tr>\n",
       "    <tr>\n",
       "      <th>50%</th>\n",
       "      <td>10.000000</td>\n",
       "    </tr>\n",
       "    <tr>\n",
       "      <th>75%</th>\n",
       "      <td>17.000000</td>\n",
       "    </tr>\n",
       "    <tr>\n",
       "      <th>max</th>\n",
       "      <td>87.000000</td>\n",
       "    </tr>\n",
       "  </tbody>\n",
       "</table>\n",
       "</div>"
      ],
      "text/plain": [
       "       weeks_on_board\n",
       "count    52395.000000\n",
       "mean        12.278118\n",
       "std         10.130632\n",
       "min          1.000000\n",
       "25%          4.000000\n",
       "50%         10.000000\n",
       "75%         17.000000\n",
       "max         87.000000"
      ]
     },
     "execution_count": 6,
     "metadata": {},
     "output_type": "execute_result"
    }
   ],
   "source": [
    "# Create a dataframe from the weeks_on_board column\n",
    "wob_df = pd.DataFrame(new_tracks_df['weeks_on_board'])\n",
    "# Use .describe to find the average amount of time that a song remains on the top 100 Billboard\n",
    "wob_df.describe()"
   ]
  },
  {
   "cell_type": "code",
   "execution_count": 7,
   "metadata": {},
   "outputs": [
    {
     "data": {
      "image/png": "[encoded data removed]",
      "text/plain": [
       "<Figure size 1440x1872 with 1 Axes>"
      ]
     },
     "metadata": {
      "needs_background": "light"
     },
     "output_type": "display_data"
    }
   ],
   "source": [
    "# Create a box-and-whisker plot for the number of weeks on the board.\n",
    "# Outliers are values that are above 36 weeks on the board.\n",
    "\n",
    "x_labels = [\"Weeks On Board\"]\n",
    "fig, ax = plt.subplots(figsize=(20,26))\n",
    "ax.boxplot(wob_df, labels=x_labels)\n",
    "# Add the title, y-axis label and grid\n",
    "ax.set_title(\"Top 100 Billboard\")\n",
    "ax.set_ylabel(\"Number of weeks\")\n",
    "ax.set_yticks(np.arange(0, 100, step=1.0))\n",
    "ax.grid()\n",
    "plt.show()"
   ]
  },
  {
   "cell_type": "code",
   "execution_count": 8,
   "metadata": {},
   "outputs": [
    {
     "data": {
      "text/html": [
       "<div>\n",
       "<style scoped>\n",
       "    .dataframe tbody tr th:only-of-type {\n",
       "        vertical-align: middle;\n",
       "    }\n",
       "\n",
       "    .dataframe tbody tr th {\n",
       "        vertical-align: top;\n",
       "    }\n",
       "\n",
       "    .dataframe thead th {\n",
       "        text-align: right;\n",
       "    }\n",
       "</style>\n",
       "<table border=\"1\" class=\"dataframe\">\n",
       "  <thead>\n",
       "    <tr style=\"text-align: right;\">\n",
       "      <th></th>\n",
       "      <th>popularity</th>\n",
       "      <th>acousticness</th>\n",
       "      <th>danceability</th>\n",
       "      <th>energy</th>\n",
       "      <th>instrumentalness</th>\n",
       "      <th>liveness</th>\n",
       "      <th>loudness</th>\n",
       "      <th>speechiness</th>\n",
       "      <th>tempo</th>\n",
       "      <th>ranking</th>\n",
       "      <th>weeks_on_board</th>\n",
       "      <th>target</th>\n",
       "    </tr>\n",
       "  </thead>\n",
       "  <tbody>\n",
       "    <tr>\n",
       "      <th>0</th>\n",
       "      <td>76.0</td>\n",
       "      <td>0.0906</td>\n",
       "      <td>0.499</td>\n",
       "      <td>0.800</td>\n",
       "      <td>0.000000</td>\n",
       "      <td>0.1470</td>\n",
       "      <td>-2.665</td>\n",
       "      <td>0.0502</td>\n",
       "      <td>139.919</td>\n",
       "      <td>70</td>\n",
       "      <td>19</td>\n",
       "      <td>NaN</td>\n",
       "    </tr>\n",
       "    <tr>\n",
       "      <th>1</th>\n",
       "      <td>78.0</td>\n",
       "      <td>0.0334</td>\n",
       "      <td>0.721</td>\n",
       "      <td>0.716</td>\n",
       "      <td>0.000840</td>\n",
       "      <td>0.2370</td>\n",
       "      <td>-7.037</td>\n",
       "      <td>0.0657</td>\n",
       "      <td>104.994</td>\n",
       "      <td>67</td>\n",
       "      <td>8</td>\n",
       "      <td>NaN</td>\n",
       "    </tr>\n",
       "    <tr>\n",
       "      <th>2</th>\n",
       "      <td>71.0</td>\n",
       "      <td>0.1880</td>\n",
       "      <td>0.846</td>\n",
       "      <td>0.748</td>\n",
       "      <td>0.000000</td>\n",
       "      <td>0.0930</td>\n",
       "      <td>-3.512</td>\n",
       "      <td>0.0780</td>\n",
       "      <td>90.006</td>\n",
       "      <td>68</td>\n",
       "      <td>6</td>\n",
       "      <td>NaN</td>\n",
       "    </tr>\n",
       "    <tr>\n",
       "      <th>3</th>\n",
       "      <td>45.0</td>\n",
       "      <td>0.2950</td>\n",
       "      <td>0.803</td>\n",
       "      <td>0.715</td>\n",
       "      <td>0.000134</td>\n",
       "      <td>0.0574</td>\n",
       "      <td>-3.280</td>\n",
       "      <td>0.2980</td>\n",
       "      <td>101.085</td>\n",
       "      <td>69</td>\n",
       "      <td>7</td>\n",
       "      <td>NaN</td>\n",
       "    </tr>\n",
       "    <tr>\n",
       "      <th>4</th>\n",
       "      <td>71.0</td>\n",
       "      <td>0.0360</td>\n",
       "      <td>0.445</td>\n",
       "      <td>0.492</td>\n",
       "      <td>0.000000</td>\n",
       "      <td>0.1220</td>\n",
       "      <td>-5.717</td>\n",
       "      <td>0.0294</td>\n",
       "      <td>148.013</td>\n",
       "      <td>75</td>\n",
       "      <td>3</td>\n",
       "      <td>NaN</td>\n",
       "    </tr>\n",
       "  </tbody>\n",
       "</table>\n",
       "</div>"
      ],
      "text/plain": [
       "   popularity  acousticness  danceability  energy  instrumentalness  liveness  \\\n",
       "0        76.0        0.0906         0.499   0.800          0.000000    0.1470   \n",
       "1        78.0        0.0334         0.721   0.716          0.000840    0.2370   \n",
       "2        71.0        0.1880         0.846   0.748          0.000000    0.0930   \n",
       "3        45.0        0.2950         0.803   0.715          0.000134    0.0574   \n",
       "4        71.0        0.0360         0.445   0.492          0.000000    0.1220   \n",
       "\n",
       "   loudness  speechiness    tempo  ranking  weeks_on_board  target  \n",
       "0    -2.665       0.0502  139.919       70              19     NaN  \n",
       "1    -7.037       0.0657  104.994       67               8     NaN  \n",
       "2    -3.512       0.0780   90.006       68               6     NaN  \n",
       "3    -3.280       0.2980  101.085       69               7     NaN  \n",
       "4    -5.717       0.0294  148.013       75               3     NaN  "
      ]
     },
     "execution_count": 8,
     "metadata": {},
     "output_type": "execute_result"
    }
   ],
   "source": [
    "# Adds a new column with the name 'target' at the end of the dataframe\n",
    "header_list = ['popularity', 'acousticness', 'danceability', \n",
    "               'energy', 'instrumentalness', 'liveness', 'loudness', \n",
    "               'speechiness', 'tempo', 'ranking', 'weeks_on_board', 'target']\n",
    "new_tracks_df = new_tracks_df.reindex(columns = header_list)\n",
    "new_tracks_df.head()"
   ]
  },
  {
   "cell_type": "code",
   "execution_count": 9,
   "metadata": {},
   "outputs": [],
   "source": [
    "# The average number of weeks that a song is on the billboard is 12 weeks.\n",
    "# Create a for loop that determines if the row value in weeks_on_board column is greater than or equal to 12 and assign\n",
    "# it a new value of 0 and add it to the 'target' column and everything else change to a 1.\n",
    "for index in new_tracks_df.index:\n",
    "    if new_tracks_df.loc[index,'weeks_on_board']>=12:\n",
    "        new_tracks_df.loc[index,'target'] = 0\n",
    "    else:\n",
    "        new_tracks_df.loc[index,'target'] = 1"
   ]
  },
  {
   "cell_type": "code",
   "execution_count": 10,
   "metadata": {},
   "outputs": [
    {
     "data": {
      "text/html": [
       "<div>\n",
       "<style scoped>\n",
       "    .dataframe tbody tr th:only-of-type {\n",
       "        vertical-align: middle;\n",
       "    }\n",
       "\n",
       "    .dataframe tbody tr th {\n",
       "        vertical-align: top;\n",
       "    }\n",
       "\n",
       "    .dataframe thead th {\n",
       "        text-align: right;\n",
       "    }\n",
       "</style>\n",
       "<table border=\"1\" class=\"dataframe\">\n",
       "  <thead>\n",
       "    <tr style=\"text-align: right;\">\n",
       "      <th></th>\n",
       "      <th>popularity</th>\n",
       "      <th>acousticness</th>\n",
       "      <th>danceability</th>\n",
       "      <th>energy</th>\n",
       "      <th>instrumentalness</th>\n",
       "      <th>liveness</th>\n",
       "      <th>loudness</th>\n",
       "      <th>speechiness</th>\n",
       "      <th>tempo</th>\n",
       "      <th>ranking</th>\n",
       "      <th>weeks_on_board</th>\n",
       "      <th>target</th>\n",
       "    </tr>\n",
       "  </thead>\n",
       "  <tbody>\n",
       "    <tr>\n",
       "      <th>0</th>\n",
       "      <td>76.0</td>\n",
       "      <td>0.0906</td>\n",
       "      <td>0.499</td>\n",
       "      <td>0.800</td>\n",
       "      <td>0.000000</td>\n",
       "      <td>0.1470</td>\n",
       "      <td>-2.665</td>\n",
       "      <td>0.0502</td>\n",
       "      <td>139.919</td>\n",
       "      <td>70</td>\n",
       "      <td>19</td>\n",
       "      <td>0.0</td>\n",
       "    </tr>\n",
       "    <tr>\n",
       "      <th>1</th>\n",
       "      <td>78.0</td>\n",
       "      <td>0.0334</td>\n",
       "      <td>0.721</td>\n",
       "      <td>0.716</td>\n",
       "      <td>0.000840</td>\n",
       "      <td>0.2370</td>\n",
       "      <td>-7.037</td>\n",
       "      <td>0.0657</td>\n",
       "      <td>104.994</td>\n",
       "      <td>67</td>\n",
       "      <td>8</td>\n",
       "      <td>1.0</td>\n",
       "    </tr>\n",
       "    <tr>\n",
       "      <th>2</th>\n",
       "      <td>71.0</td>\n",
       "      <td>0.1880</td>\n",
       "      <td>0.846</td>\n",
       "      <td>0.748</td>\n",
       "      <td>0.000000</td>\n",
       "      <td>0.0930</td>\n",
       "      <td>-3.512</td>\n",
       "      <td>0.0780</td>\n",
       "      <td>90.006</td>\n",
       "      <td>68</td>\n",
       "      <td>6</td>\n",
       "      <td>1.0</td>\n",
       "    </tr>\n",
       "    <tr>\n",
       "      <th>3</th>\n",
       "      <td>45.0</td>\n",
       "      <td>0.2950</td>\n",
       "      <td>0.803</td>\n",
       "      <td>0.715</td>\n",
       "      <td>0.000134</td>\n",
       "      <td>0.0574</td>\n",
       "      <td>-3.280</td>\n",
       "      <td>0.2980</td>\n",
       "      <td>101.085</td>\n",
       "      <td>69</td>\n",
       "      <td>7</td>\n",
       "      <td>1.0</td>\n",
       "    </tr>\n",
       "    <tr>\n",
       "      <th>4</th>\n",
       "      <td>71.0</td>\n",
       "      <td>0.0360</td>\n",
       "      <td>0.445</td>\n",
       "      <td>0.492</td>\n",
       "      <td>0.000000</td>\n",
       "      <td>0.1220</td>\n",
       "      <td>-5.717</td>\n",
       "      <td>0.0294</td>\n",
       "      <td>148.013</td>\n",
       "      <td>75</td>\n",
       "      <td>3</td>\n",
       "      <td>1.0</td>\n",
       "    </tr>\n",
       "  </tbody>\n",
       "</table>\n",
       "</div>"
      ],
      "text/plain": [
       "   popularity  acousticness  danceability  energy  instrumentalness  liveness  \\\n",
       "0        76.0        0.0906         0.499   0.800          0.000000    0.1470   \n",
       "1        78.0        0.0334         0.721   0.716          0.000840    0.2370   \n",
       "2        71.0        0.1880         0.846   0.748          0.000000    0.0930   \n",
       "3        45.0        0.2950         0.803   0.715          0.000134    0.0574   \n",
       "4        71.0        0.0360         0.445   0.492          0.000000    0.1220   \n",
       "\n",
       "   loudness  speechiness    tempo  ranking  weeks_on_board  target  \n",
       "0    -2.665       0.0502  139.919       70              19     0.0  \n",
       "1    -7.037       0.0657  104.994       67               8     1.0  \n",
       "2    -3.512       0.0780   90.006       68               6     1.0  \n",
       "3    -3.280       0.2980  101.085       69               7     1.0  \n",
       "4    -5.717       0.0294  148.013       75               3     1.0  "
      ]
     },
     "execution_count": 10,
     "metadata": {},
     "output_type": "execute_result"
    }
   ],
   "source": [
    "new_tracks_df.head()"
   ]
  },
  {
   "cell_type": "code",
   "execution_count": 11,
   "metadata": {},
   "outputs": [
    {
     "data": {
      "text/html": [
       "<div>\n",
       "<style scoped>\n",
       "    .dataframe tbody tr th:only-of-type {\n",
       "        vertical-align: middle;\n",
       "    }\n",
       "\n",
       "    .dataframe tbody tr th {\n",
       "        vertical-align: top;\n",
       "    }\n",
       "\n",
       "    .dataframe thead th {\n",
       "        text-align: right;\n",
       "    }\n",
       "</style>\n",
       "<table border=\"1\" class=\"dataframe\">\n",
       "  <thead>\n",
       "    <tr style=\"text-align: right;\">\n",
       "      <th></th>\n",
       "      <th>popularity</th>\n",
       "      <th>acousticness</th>\n",
       "      <th>danceability</th>\n",
       "      <th>energy</th>\n",
       "      <th>instrumentalness</th>\n",
       "      <th>liveness</th>\n",
       "      <th>loudness</th>\n",
       "      <th>speechiness</th>\n",
       "      <th>tempo</th>\n",
       "      <th>target</th>\n",
       "    </tr>\n",
       "  </thead>\n",
       "  <tbody>\n",
       "    <tr>\n",
       "      <th>0</th>\n",
       "      <td>76.0</td>\n",
       "      <td>0.0906</td>\n",
       "      <td>0.499</td>\n",
       "      <td>0.800</td>\n",
       "      <td>0.000000</td>\n",
       "      <td>0.1470</td>\n",
       "      <td>-2.665</td>\n",
       "      <td>0.0502</td>\n",
       "      <td>139.919</td>\n",
       "      <td>0.0</td>\n",
       "    </tr>\n",
       "    <tr>\n",
       "      <th>1</th>\n",
       "      <td>78.0</td>\n",
       "      <td>0.0334</td>\n",
       "      <td>0.721</td>\n",
       "      <td>0.716</td>\n",
       "      <td>0.000840</td>\n",
       "      <td>0.2370</td>\n",
       "      <td>-7.037</td>\n",
       "      <td>0.0657</td>\n",
       "      <td>104.994</td>\n",
       "      <td>1.0</td>\n",
       "    </tr>\n",
       "    <tr>\n",
       "      <th>2</th>\n",
       "      <td>71.0</td>\n",
       "      <td>0.1880</td>\n",
       "      <td>0.846</td>\n",
       "      <td>0.748</td>\n",
       "      <td>0.000000</td>\n",
       "      <td>0.0930</td>\n",
       "      <td>-3.512</td>\n",
       "      <td>0.0780</td>\n",
       "      <td>90.006</td>\n",
       "      <td>1.0</td>\n",
       "    </tr>\n",
       "    <tr>\n",
       "      <th>3</th>\n",
       "      <td>45.0</td>\n",
       "      <td>0.2950</td>\n",
       "      <td>0.803</td>\n",
       "      <td>0.715</td>\n",
       "      <td>0.000134</td>\n",
       "      <td>0.0574</td>\n",
       "      <td>-3.280</td>\n",
       "      <td>0.2980</td>\n",
       "      <td>101.085</td>\n",
       "      <td>1.0</td>\n",
       "    </tr>\n",
       "    <tr>\n",
       "      <th>4</th>\n",
       "      <td>71.0</td>\n",
       "      <td>0.0360</td>\n",
       "      <td>0.445</td>\n",
       "      <td>0.492</td>\n",
       "      <td>0.000000</td>\n",
       "      <td>0.1220</td>\n",
       "      <td>-5.717</td>\n",
       "      <td>0.0294</td>\n",
       "      <td>148.013</td>\n",
       "      <td>1.0</td>\n",
       "    </tr>\n",
       "  </tbody>\n",
       "</table>\n",
       "</div>"
      ],
      "text/plain": [
       "   popularity  acousticness  danceability  energy  instrumentalness  liveness  \\\n",
       "0        76.0        0.0906         0.499   0.800          0.000000    0.1470   \n",
       "1        78.0        0.0334         0.721   0.716          0.000840    0.2370   \n",
       "2        71.0        0.1880         0.846   0.748          0.000000    0.0930   \n",
       "3        45.0        0.2950         0.803   0.715          0.000134    0.0574   \n",
       "4        71.0        0.0360         0.445   0.492          0.000000    0.1220   \n",
       "\n",
       "   loudness  speechiness    tempo  target  \n",
       "0    -2.665       0.0502  139.919     0.0  \n",
       "1    -7.037       0.0657  104.994     1.0  \n",
       "2    -3.512       0.0780   90.006     1.0  \n",
       "3    -3.280       0.2980  101.085     1.0  \n",
       "4    -5.717       0.0294  148.013     1.0  "
      ]
     },
     "execution_count": 11,
     "metadata": {},
     "output_type": "execute_result"
    }
   ],
   "source": [
    "# Drops the weeks_on_board column since we are using the 'target' column \n",
    "# Drops ranking column to test how the ML models will perform without it\n",
    "target_tracks_df = new_tracks_df.drop([\"weeks_on_board\",\"ranking\"], axis=1)\n",
    "target_tracks_df.head()"
   ]
  },
  {
   "cell_type": "code",
   "execution_count": 12,
   "metadata": {},
   "outputs": [],
   "source": [
    "# Create our features\n",
    "X = target_tracks_df.drop(columns = \"target\")\n",
    "#X = pd.get_dummies(X)\n",
    "\n",
    "# Create our target\n",
    "y = target_tracks_df[\"target\"]"
   ]
  },
  {
   "cell_type": "code",
   "execution_count": 13,
   "metadata": {},
   "outputs": [
    {
     "data": {
      "text/html": [
       "<div>\n",
       "<style scoped>\n",
       "    .dataframe tbody tr th:only-of-type {\n",
       "        vertical-align: middle;\n",
       "    }\n",
       "\n",
       "    .dataframe tbody tr th {\n",
       "        vertical-align: top;\n",
       "    }\n",
       "\n",
       "    .dataframe thead th {\n",
       "        text-align: right;\n",
       "    }\n",
       "</style>\n",
       "<table border=\"1\" class=\"dataframe\">\n",
       "  <thead>\n",
       "    <tr style=\"text-align: right;\">\n",
       "      <th></th>\n",
       "      <th>popularity</th>\n",
       "      <th>acousticness</th>\n",
       "      <th>danceability</th>\n",
       "      <th>energy</th>\n",
       "      <th>instrumentalness</th>\n",
       "      <th>liveness</th>\n",
       "      <th>loudness</th>\n",
       "      <th>speechiness</th>\n",
       "      <th>tempo</th>\n",
       "    </tr>\n",
       "  </thead>\n",
       "  <tbody>\n",
       "    <tr>\n",
       "      <th>count</th>\n",
       "      <td>52395.000000</td>\n",
       "      <td>52395.000000</td>\n",
       "      <td>52395.000000</td>\n",
       "      <td>52395.000000</td>\n",
       "      <td>52395.000000</td>\n",
       "      <td>52395.000000</td>\n",
       "      <td>52395.000000</td>\n",
       "      <td>52395.000000</td>\n",
       "      <td>52395.000000</td>\n",
       "    </tr>\n",
       "    <tr>\n",
       "      <th>mean</th>\n",
       "      <td>63.208398</td>\n",
       "      <td>0.166375</td>\n",
       "      <td>0.646721</td>\n",
       "      <td>0.676498</td>\n",
       "      <td>0.010053</td>\n",
       "      <td>0.178256</td>\n",
       "      <td>-5.936540</td>\n",
       "      <td>0.101920</td>\n",
       "      <td>122.542894</td>\n",
       "    </tr>\n",
       "    <tr>\n",
       "      <th>std</th>\n",
       "      <td>16.218658</td>\n",
       "      <td>0.209721</td>\n",
       "      <td>0.135772</td>\n",
       "      <td>0.166208</td>\n",
       "      <td>0.076090</td>\n",
       "      <td>0.135081</td>\n",
       "      <td>2.303629</td>\n",
       "      <td>0.102682</td>\n",
       "      <td>28.346675</td>\n",
       "    </tr>\n",
       "    <tr>\n",
       "      <th>min</th>\n",
       "      <td>0.000000</td>\n",
       "      <td>0.000014</td>\n",
       "      <td>0.076800</td>\n",
       "      <td>0.002310</td>\n",
       "      <td>0.000000</td>\n",
       "      <td>0.020000</td>\n",
       "      <td>-42.887000</td>\n",
       "      <td>0.022500</td>\n",
       "      <td>48.718000</td>\n",
       "    </tr>\n",
       "    <tr>\n",
       "      <th>25%</th>\n",
       "      <td>57.000000</td>\n",
       "      <td>0.021900</td>\n",
       "      <td>0.557000</td>\n",
       "      <td>0.567000</td>\n",
       "      <td>0.000000</td>\n",
       "      <td>0.094500</td>\n",
       "      <td>-7.031000</td>\n",
       "      <td>0.037800</td>\n",
       "      <td>99.643000</td>\n",
       "    </tr>\n",
       "    <tr>\n",
       "      <th>50%</th>\n",
       "      <td>66.000000</td>\n",
       "      <td>0.075400</td>\n",
       "      <td>0.652000</td>\n",
       "      <td>0.698000</td>\n",
       "      <td>0.000000</td>\n",
       "      <td>0.124000</td>\n",
       "      <td>-5.603000</td>\n",
       "      <td>0.055400</td>\n",
       "      <td>122.504000</td>\n",
       "    </tr>\n",
       "    <tr>\n",
       "      <th>75%</th>\n",
       "      <td>73.000000</td>\n",
       "      <td>0.228000</td>\n",
       "      <td>0.742000</td>\n",
       "      <td>0.805000</td>\n",
       "      <td>0.000011</td>\n",
       "      <td>0.224000</td>\n",
       "      <td>-4.421000</td>\n",
       "      <td>0.121000</td>\n",
       "      <td>140.309000</td>\n",
       "    </tr>\n",
       "    <tr>\n",
       "      <th>max</th>\n",
       "      <td>97.000000</td>\n",
       "      <td>0.996000</td>\n",
       "      <td>0.981000</td>\n",
       "      <td>0.996000</td>\n",
       "      <td>0.973000</td>\n",
       "      <td>0.989000</td>\n",
       "      <td>0.175000</td>\n",
       "      <td>0.951000</td>\n",
       "      <td>208.067000</td>\n",
       "    </tr>\n",
       "  </tbody>\n",
       "</table>\n",
       "</div>"
      ],
      "text/plain": [
       "         popularity  acousticness  danceability        energy  \\\n",
       "count  52395.000000  52395.000000  52395.000000  52395.000000   \n",
       "mean      63.208398      0.166375      0.646721      0.676498   \n",
       "std       16.218658      0.209721      0.135772      0.166208   \n",
       "min        0.000000      0.000014      0.076800      0.002310   \n",
       "25%       57.000000      0.021900      0.557000      0.567000   \n",
       "50%       66.000000      0.075400      0.652000      0.698000   \n",
       "75%       73.000000      0.228000      0.742000      0.805000   \n",
       "max       97.000000      0.996000      0.981000      0.996000   \n",
       "\n",
       "       instrumentalness      liveness      loudness   speechiness  \\\n",
       "count      52395.000000  52395.000000  52395.000000  52395.000000   \n",
       "mean           0.010053      0.178256     -5.936540      0.101920   \n",
       "std            0.076090      0.135081      2.303629      0.102682   \n",
       "min            0.000000      0.020000    -42.887000      0.022500   \n",
       "25%            0.000000      0.094500     -7.031000      0.037800   \n",
       "50%            0.000000      0.124000     -5.603000      0.055400   \n",
       "75%            0.000011      0.224000     -4.421000      0.121000   \n",
       "max            0.973000      0.989000      0.175000      0.951000   \n",
       "\n",
       "              tempo  \n",
       "count  52395.000000  \n",
       "mean     122.542894  \n",
       "std       28.346675  \n",
       "min       48.718000  \n",
       "25%       99.643000  \n",
       "50%      122.504000  \n",
       "75%      140.309000  \n",
       "max      208.067000  "
      ]
     },
     "execution_count": 13,
     "metadata": {},
     "output_type": "execute_result"
    }
   ],
   "source": [
    "X.describe()"
   ]
  },
  {
   "cell_type": "code",
   "execution_count": 14,
   "metadata": {},
   "outputs": [
    {
     "data": {
      "text/plain": [
       "1.0    29045\n",
       "0.0    23350\n",
       "Name: target, dtype: int64"
      ]
     },
     "execution_count": 14,
     "metadata": {},
     "output_type": "execute_result"
    }
   ],
   "source": [
    "# Check the balance of our target values\n",
    "y.value_counts()"
   ]
  },
  {
   "cell_type": "markdown",
   "metadata": {},
   "source": [
    "### Testing"
   ]
  },
  {
   "cell_type": "code",
   "execution_count": 15,
   "metadata": {},
   "outputs": [],
   "source": [
    "# train the data\n",
    "X_train, X_test, y_train, y_test = train_test_split(X,\n",
    "                                                    y,\n",
    "                                                    test_size=0.10,\n",
    "                                                    random_state = 1)"
   ]
  },
  {
   "cell_type": "code",
   "execution_count": 16,
   "metadata": {},
   "outputs": [
    {
     "data": {
      "text/plain": [
       "(47155, 9)"
      ]
     },
     "execution_count": 16,
     "metadata": {},
     "output_type": "execute_result"
    }
   ],
   "source": [
    "# Check number of examples we have in our train data set\n",
    "X_train.shape"
   ]
  },
  {
   "cell_type": "code",
   "execution_count": 17,
   "metadata": {},
   "outputs": [
    {
     "data": {
      "text/plain": [
       "(5240, 9)"
      ]
     },
     "execution_count": 17,
     "metadata": {},
     "output_type": "execute_result"
    }
   ],
   "source": [
    "# Check number of examples we have in our test data set\n",
    "X_test.shape"
   ]
  },
  {
   "cell_type": "markdown",
   "metadata": {},
   "source": [
    "### Standardization: StandardScaler"
   ]
  },
  {
   "cell_type": "code",
   "execution_count": 18,
   "metadata": {},
   "outputs": [],
   "source": [
    "# Create scaler with default parameters\n",
    "scaler = StandardScaler()"
   ]
  },
  {
   "cell_type": "code",
   "execution_count": 19,
   "metadata": {},
   "outputs": [],
   "source": [
    "# Fits the scaler passing the training data and transforms the data\n",
    "# Returns it to variable \"train_scaled\"\n",
    "train_scaled = scaler.fit_transform(X_train)"
   ]
  },
  {
   "cell_type": "code",
   "execution_count": 20,
   "metadata": {},
   "outputs": [],
   "source": [
    "# Transforms test data the same way\n",
    "test_scaled = scaler.transform(X_test)"
   ]
  },
  {
   "cell_type": "markdown",
   "metadata": {},
   "source": [
    "-------------------------------------------------------------------------------"
   ]
  },
  {
   "cell_type": "markdown",
   "metadata": {},
   "source": [
    "# Use the Nueral Network MLPClassifier ML Model for the target_tracks_df WITHOUT ranking\n",
    "    1. This dataframe excludes the number of weeks on the board and instead uses a binary outcome. This binary values was determined by if the weeks on board is greater than or equal to 12 then change to 0, else change to a 1."
   ]
  },
  {
   "cell_type": "code",
   "execution_count": 21,
   "metadata": {},
   "outputs": [],
   "source": [
    "# Initializing the MLPClassifier\n",
    "from sklearn.neural_network import MLPClassifier\n",
    "model = MLPClassifier(solver='lbfgs', random_state=42, max_iter=2500)"
   ]
  },
  {
   "cell_type": "code",
   "execution_count": 22,
   "metadata": {},
   "outputs": [
    {
     "data": {
      "text/plain": [
       "MLPClassifier(max_iter=2500, random_state=42, solver='lbfgs')"
      ]
     },
     "execution_count": 22,
     "metadata": {},
     "output_type": "execute_result"
    }
   ],
   "source": [
    "# Fitting the training data to the network\n",
    "model.fit(train_scaled, y_train)"
   ]
  },
  {
   "cell_type": "code",
   "execution_count": 23,
   "metadata": {},
   "outputs": [],
   "source": [
    "# Import the accuracy_score and declare the predictor variable\n",
    "y_pred = model.predict(test_scaled)"
   ]
  },
  {
   "cell_type": "code",
   "execution_count": 24,
   "metadata": {},
   "outputs": [
    {
     "name": "stdout",
     "output_type": "stream",
     "text": [
      "65.69186724631534\n"
     ]
    }
   ],
   "source": [
    "# Accuracy score of our training data\n",
    "# max_iter results\n",
    "# 3000 = 73.03573322023115\n",
    "# 2500 = 73.03573322023115\n",
    "# 2000 = 72.9466652528894\n",
    "# 1000 = 72.72611600042413\n",
    "\n",
    "train_acc = accuracy_score(y_train, model.predict(train_scaled))*100\n",
    "print(train_acc)"
   ]
  },
  {
   "cell_type": "code",
   "execution_count": 25,
   "metadata": {},
   "outputs": [
    {
     "name": "stdout",
     "output_type": "stream",
     "text": [
      "62.91984732824427\n"
     ]
    }
   ],
   "source": [
    "# Accuracy score of our test data\n",
    "# max_iter results\n",
    "# 3000 = 70.24809160305342\n",
    "# 2500 = 70.24809160305342\n",
    "# 2000 = 70.38167938931298\n",
    "# 1000 = 69.80916030534351\n",
    "\n",
    "test_acc = accuracy_score(y_test, y_pred)*100\n",
    "print(test_acc)"
   ]
  },
  {
   "cell_type": "code",
   "execution_count": 26,
   "metadata": {},
   "outputs": [
    {
     "name": "stdout",
     "output_type": "stream",
     "text": [
      "Confusion Matrix\n"
     ]
    },
    {
     "data": {
      "text/html": [
       "<div>\n",
       "<style scoped>\n",
       "    .dataframe tbody tr th:only-of-type {\n",
       "        vertical-align: middle;\n",
       "    }\n",
       "\n",
       "    .dataframe tbody tr th {\n",
       "        vertical-align: top;\n",
       "    }\n",
       "\n",
       "    .dataframe thead th {\n",
       "        text-align: right;\n",
       "    }\n",
       "</style>\n",
       "<table border=\"1\" class=\"dataframe\">\n",
       "  <thead>\n",
       "    <tr style=\"text-align: right;\">\n",
       "      <th></th>\n",
       "      <th>Predicted 0</th>\n",
       "      <th>Predicted 1</th>\n",
       "    </tr>\n",
       "  </thead>\n",
       "  <tbody>\n",
       "    <tr>\n",
       "      <th>Actual 0</th>\n",
       "      <td>1290</td>\n",
       "      <td>1029</td>\n",
       "    </tr>\n",
       "    <tr>\n",
       "      <th>Actual 1</th>\n",
       "      <td>914</td>\n",
       "      <td>2007</td>\n",
       "    </tr>\n",
       "  </tbody>\n",
       "</table>\n",
       "</div>"
      ],
      "text/plain": [
       "          Predicted 0  Predicted 1\n",
       "Actual 0         1290         1029\n",
       "Actual 1          914         2007"
      ]
     },
     "metadata": {},
     "output_type": "display_data"
    },
    {
     "name": "stdout",
     "output_type": "stream",
     "text": [
      "Accuracy Score : 62.91984732824427\n",
      "Classification Report\n",
      "              precision    recall  f1-score   support\n",
      "\n",
      "         0.0       0.59      0.56      0.57      2319\n",
      "         1.0       0.66      0.69      0.67      2921\n",
      "\n",
      "    accuracy                           0.63      5240\n",
      "   macro avg       0.62      0.62      0.62      5240\n",
      "weighted avg       0.63      0.63      0.63      5240\n",
      "\n"
     ]
    }
   ],
   "source": [
    "# Generates a confusion matrix\n",
    "cm = confusion_matrix(y_test, y_pred)\n",
    "cm_df = pd.DataFrame(cm, index=['Actual 0', 'Actual 1'], columns=['Predicted 0', 'Predicted 1'])\n",
    "\n",
    "# Displaying results\n",
    "print(\"Confusion Matrix\")\n",
    "display(cm_df)\n",
    "print(f\"Accuracy Score : {test_acc}\")\n",
    "print(\"Classification Report\")\n",
    "print(classification_report(y_test, y_pred))"
   ]
  },
  {
   "cell_type": "markdown",
   "metadata": {},
   "source": [
    "-------------------------------------------------------------------------------"
   ]
  },
  {
   "cell_type": "markdown",
   "metadata": {},
   "source": [
    "# Use the Random Forest ML Model for the target_tracks_df WITHOUT ranking"
   ]
  },
  {
   "cell_type": "code",
   "execution_count": 27,
   "metadata": {},
   "outputs": [],
   "source": [
    "# Create a random forest classifier.\n",
    "from sklearn.ensemble import RandomForestClassifier\n",
    "rf_model = RandomForestClassifier(n_estimators=4096, random_state=78)"
   ]
  },
  {
   "cell_type": "code",
   "execution_count": 28,
   "metadata": {},
   "outputs": [],
   "source": [
    "# Fitting the model\n",
    "rf_model = rf_model.fit(train_scaled, y_train)"
   ]
  },
  {
   "cell_type": "code",
   "execution_count": 29,
   "metadata": {},
   "outputs": [],
   "source": [
    "# Making predictions using the testing data.\n",
    "predictions = rf_model.predict(test_scaled)"
   ]
  },
  {
   "cell_type": "code",
   "execution_count": 30,
   "metadata": {},
   "outputs": [
    {
     "data": {
      "text/html": [
       "<div>\n",
       "<style scoped>\n",
       "    .dataframe tbody tr th:only-of-type {\n",
       "        vertical-align: middle;\n",
       "    }\n",
       "\n",
       "    .dataframe tbody tr th {\n",
       "        vertical-align: top;\n",
       "    }\n",
       "\n",
       "    .dataframe thead th {\n",
       "        text-align: right;\n",
       "    }\n",
       "</style>\n",
       "<table border=\"1\" class=\"dataframe\">\n",
       "  <thead>\n",
       "    <tr style=\"text-align: right;\">\n",
       "      <th></th>\n",
       "      <th>Predicted 0</th>\n",
       "      <th>Predicted 1</th>\n",
       "    </tr>\n",
       "  </thead>\n",
       "  <tbody>\n",
       "    <tr>\n",
       "      <th>Actual 0</th>\n",
       "      <td>1364</td>\n",
       "      <td>955</td>\n",
       "    </tr>\n",
       "    <tr>\n",
       "      <th>Actual 1</th>\n",
       "      <td>960</td>\n",
       "      <td>1961</td>\n",
       "    </tr>\n",
       "  </tbody>\n",
       "</table>\n",
       "</div>"
      ],
      "text/plain": [
       "          Predicted 0  Predicted 1\n",
       "Actual 0         1364          955\n",
       "Actual 1          960         1961"
      ]
     },
     "execution_count": 30,
     "metadata": {},
     "output_type": "execute_result"
    }
   ],
   "source": [
    "# Calculating the confusion matrix\n",
    "cm = confusion_matrix(y_test, predictions)\n",
    "\n",
    "# Create a DataFrame from the confusion matrix.\n",
    "cm_df = pd.DataFrame(\n",
    "    cm, index=[\"Actual 0\", \"Actual 1\"], columns=[\"Predicted 0\", \"Predicted 1\"]\n",
    ")\n",
    "cm_df"
   ]
  },
  {
   "cell_type": "code",
   "execution_count": 31,
   "metadata": {},
   "outputs": [
    {
     "data": {
      "text/plain": [
       "69.31184391899056"
      ]
     },
     "execution_count": 31,
     "metadata": {},
     "output_type": "execute_result"
    }
   ],
   "source": [
    "# accuracy from training data\n",
    "accuracy_score(y_train, rf_model.predict(train_scaled))*100"
   ]
  },
  {
   "cell_type": "code",
   "execution_count": 32,
   "metadata": {},
   "outputs": [
    {
     "name": "stdout",
     "output_type": "stream",
     "text": [
      "63.45419847328244\n"
     ]
    }
   ],
   "source": [
    "# Calculating the accuracy score from test data\n",
    "acc_score = accuracy_score(y_test, predictions)\n",
    "print((acc_score)*100)"
   ]
  },
  {
   "cell_type": "code",
   "execution_count": 33,
   "metadata": {},
   "outputs": [
    {
     "name": "stdout",
     "output_type": "stream",
     "text": [
      "Confusion Matrix\n"
     ]
    },
    {
     "data": {
      "text/html": [
       "<div>\n",
       "<style scoped>\n",
       "    .dataframe tbody tr th:only-of-type {\n",
       "        vertical-align: middle;\n",
       "    }\n",
       "\n",
       "    .dataframe tbody tr th {\n",
       "        vertical-align: top;\n",
       "    }\n",
       "\n",
       "    .dataframe thead th {\n",
       "        text-align: right;\n",
       "    }\n",
       "</style>\n",
       "<table border=\"1\" class=\"dataframe\">\n",
       "  <thead>\n",
       "    <tr style=\"text-align: right;\">\n",
       "      <th></th>\n",
       "      <th>Predicted 0</th>\n",
       "      <th>Predicted 1</th>\n",
       "    </tr>\n",
       "  </thead>\n",
       "  <tbody>\n",
       "    <tr>\n",
       "      <th>Actual 0</th>\n",
       "      <td>1364</td>\n",
       "      <td>955</td>\n",
       "    </tr>\n",
       "    <tr>\n",
       "      <th>Actual 1</th>\n",
       "      <td>960</td>\n",
       "      <td>1961</td>\n",
       "    </tr>\n",
       "  </tbody>\n",
       "</table>\n",
       "</div>"
      ],
      "text/plain": [
       "          Predicted 0  Predicted 1\n",
       "Actual 0         1364          955\n",
       "Actual 1          960         1961"
      ]
     },
     "metadata": {},
     "output_type": "display_data"
    },
    {
     "name": "stdout",
     "output_type": "stream",
     "text": [
      "Accuracy Score : 0.6345419847328244\n",
      "Classification Report\n",
      "              precision    recall  f1-score   support\n",
      "\n",
      "         0.0       0.59      0.59      0.59      2319\n",
      "         1.0       0.67      0.67      0.67      2921\n",
      "\n",
      "    accuracy                           0.63      5240\n",
      "   macro avg       0.63      0.63      0.63      5240\n",
      "weighted avg       0.63      0.63      0.63      5240\n",
      "\n"
     ]
    }
   ],
   "source": [
    "# Displaying results\n",
    "print(\"Confusion Matrix\")\n",
    "display(cm_df)\n",
    "print(f\"Accuracy Score : {acc_score}\")\n",
    "print(\"Classification Report\")\n",
    "print(classification_report(y_test, predictions))"
   ]
  },
  {
   "cell_type": "code",
   "execution_count": 34,
   "metadata": {},
   "outputs": [
    {
     "data": {
      "text/plain": [
       "array([0.23958339, 0.10055155, 0.10367128, 0.09640971, 0.04998946,\n",
       "       0.10228207, 0.10099962, 0.10750114, 0.09901176])"
      ]
     },
     "execution_count": 34,
     "metadata": {},
     "output_type": "execute_result"
    }
   ],
   "source": [
    "# Calculate feature importance in the Random Forest model\n",
    "importances = rf_model.feature_importances_\n",
    "importances"
   ]
  },
  {
   "cell_type": "code",
   "execution_count": 35,
   "metadata": {},
   "outputs": [
    {
     "data": {
      "text/plain": [
       "[(0.23958338894841763, 'popularity'),\n",
       " (0.1075011449199152, 'speechiness'),\n",
       " (0.1036712819613729, 'danceability'),\n",
       " (0.10228207460372281, 'liveness'),\n",
       " (0.10099962024256445, 'loudness'),\n",
       " (0.10055155199907807, 'acousticness'),\n",
       " (0.09901176349683682, 'tempo'),\n",
       " (0.09640970963692862, 'energy'),\n",
       " (0.04998946419116349, 'instrumentalness')]"
      ]
     },
     "execution_count": 35,
     "metadata": {},
     "output_type": "execute_result"
    }
   ],
   "source": [
    "# Sort the features by their importance\n",
    "sorted(zip(rf_model.feature_importances_, X.columns), reverse=True)"
   ]
  },
  {
   "cell_type": "markdown",
   "metadata": {},
   "source": [
    "-------------------------------------------------------------------------------"
   ]
  },
  {
   "cell_type": "markdown",
   "metadata": {},
   "source": [
    "# Use the KNearestRegressor ML Model for the target_tracks_df WITHOUT ranking"
   ]
  },
  {
   "cell_type": "code",
   "execution_count": 36,
   "metadata": {},
   "outputs": [],
   "source": [
    "from sklearn.neighbors import KNeighborsRegressor\n",
    "knr_model = KNeighborsRegressor(n_neighbors=17)"
   ]
  },
  {
   "cell_type": "code",
   "execution_count": 37,
   "metadata": {},
   "outputs": [
    {
     "data": {
      "text/plain": [
       "KNeighborsRegressor(n_neighbors=17)"
      ]
     },
     "execution_count": 37,
     "metadata": {},
     "output_type": "execute_result"
    }
   ],
   "source": [
    "knr_model.fit(train_scaled, y_train)"
   ]
  },
  {
   "cell_type": "code",
   "execution_count": 38,
   "metadata": {},
   "outputs": [],
   "source": [
    "knr_mse = mean_squared_error(y_train, knr_model.predict(train_scaled))\n",
    "knr_mae = mean_absolute_error(y_train, knr_model.predict(train_scaled))"
   ]
  },
  {
   "cell_type": "code",
   "execution_count": 39,
   "metadata": {},
   "outputs": [
    {
     "name": "stdout",
     "output_type": "stream",
     "text": [
      "mse =  0.2009145279922394  & mae =  0.40697324842353444  & rmse =  0.4482349026930404\n"
     ]
    }
   ],
   "source": [
    "print(\"mse = \",knr_mse,\" & mae = \",knr_mae,\" & rmse = \", sqrt(knr_mse))"
   ]
  },
  {
   "cell_type": "code",
   "execution_count": 40,
   "metadata": {},
   "outputs": [
    {
     "name": "stdout",
     "output_type": "stream",
     "text": [
      "mse =  0.22340592725639877  & mae =  0.4313762909744051  & rmse =  0.47265836209295903\n"
     ]
    }
   ],
   "source": [
    "test_knr_mse = mean_squared_error(y_test, knr_model.predict(test_scaled))\n",
    "test_knr_mae = mean_absolute_error(y_test, knr_model.predict(test_scaled))\n",
    "print(\"mse = \",test_knr_mse,\" & mae = \",test_knr_mae,\" & rmse = \", sqrt(test_knr_mse))"
   ]
  },
  {
   "cell_type": "markdown",
   "metadata": {},
   "source": [
    "-------------------------------------------------------------------------------"
   ]
  },
  {
   "cell_type": "markdown",
   "metadata": {},
   "source": [
    "# Use the KNeighborsClassifier ML Model for the target_tracks_df WITHOUT ranking"
   ]
  },
  {
   "cell_type": "code",
   "execution_count": 41,
   "metadata": {},
   "outputs": [],
   "source": [
    "from sklearn.neighbors import KNeighborsClassifier\n",
    "knc_model = KNeighborsClassifier(n_neighbors=23)"
   ]
  },
  {
   "cell_type": "code",
   "execution_count": 42,
   "metadata": {},
   "outputs": [
    {
     "data": {
      "text/plain": [
       "KNeighborsClassifier(n_neighbors=23)"
      ]
     },
     "execution_count": 42,
     "metadata": {},
     "output_type": "execute_result"
    }
   ],
   "source": [
    "knc_model.fit(train_scaled,y_train)"
   ]
  },
  {
   "cell_type": "code",
   "execution_count": 43,
   "metadata": {},
   "outputs": [],
   "source": [
    "knc_mse = mean_squared_error(y_train, knc_model.predict(train_scaled))\n",
    "knc_mae = mean_absolute_error(y_train, knc_model.predict(train_scaled))"
   ]
  },
  {
   "cell_type": "code",
   "execution_count": 44,
   "metadata": {},
   "outputs": [
    {
     "name": "stdout",
     "output_type": "stream",
     "text": [
      "mse =  0.3255222139751882  & mae =  0.3255222139751882  & rmse =  0.5705455406671656\n"
     ]
    }
   ],
   "source": [
    "print(\"mse = \",knc_mse,\" & mae = \",knc_mae,\" & rmse = \", sqrt(knc_mse))"
   ]
  },
  {
   "cell_type": "code",
   "execution_count": 45,
   "metadata": {},
   "outputs": [
    {
     "name": "stdout",
     "output_type": "stream",
     "text": [
      "mse =  0.36431297709923666  & mae =  0.36431297709923666  & rmse =  0.6035834466743075\n"
     ]
    }
   ],
   "source": [
    "test_mse = mean_squared_error(y_test, knc_model.predict(test_scaled))\n",
    "test_mae = mean_absolute_error(y_test, knc_model.predict(test_scaled))\n",
    "print(\"mse = \",test_mse,\" & mae = \",test_mae,\" & rmse = \", sqrt(test_mse))"
   ]
  },
  {
   "cell_type": "code",
   "execution_count": null,
   "metadata": {},
   "outputs": [],
   "source": []
  }
 ],
 "metadata": {
  "kernelspec": {
   "display_name": "Python 3",
   "language": "python",
   "name": "python3"
  },
  "language_info": {
   "codemirror_mode": {
    "name": "ipython",
    "version": 3
   },
   "file_extension": ".py",
   "mimetype": "text/x-python",
   "name": "python",
   "nbconvert_exporter": "python",
   "pygments_lexer": "ipython3",
   "version": "3.7.10"
  }
 },
 "nbformat": 4,
 "nbformat_minor": 4
}
